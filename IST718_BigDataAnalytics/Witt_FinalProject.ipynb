{
 "cells": [
  {
   "cell_type": "code",
   "execution_count": 1,
   "metadata": {},
   "outputs": [],
   "source": [
    "# Import packages\n",
    "import re\n",
    "import pandas as pd\n",
    "import numpy as np\n",
    "import matplotlib.pyplot as plt\n",
    "import seaborn as sns\n",
    "import string\n",
    "import nltk\n",
    "from sklearn.feature_extraction.text import TfidfVectorizer\n",
    "from sklearn.model_selection import train_test_split\n",
    "from sklearn.svm import LinearSVC\n",
    "from sklearn.metrics import confusion_matrix\n",
    "from sklearn.model_selection import cross_val_score\n",
    "import matplotlib.pyplot as plt\n",
    "from wordcloud import WordCloud\n",
    "import six\n",
    "from sklearn.naive_bayes import MultinomialNB\n",
    "\n",
    "%matplotlib inline"
   ]
  },
  {
   "cell_type": "code",
   "execution_count": null,
   "metadata": {},
   "outputs": [],
   "source": []
  },
  {
   "cell_type": "code",
   "execution_count": 2,
   "metadata": {},
   "outputs": [],
   "source": [
    "# This is a function to display data frames as a table\n",
    "def render_mpl_table(data, col_width=3.0, row_height=0.625, font_size=14,\n",
    "                     header_color='#40466e', row_colors=['#f1f1f2', 'w'], edge_color='w',\n",
    "                     bbox=[0, 0, 1, 1], header_columns=0,\n",
    "                     ax=None, **kwargs):\n",
    "    if ax is None:\n",
    "        size = (np.array(data.shape[::-1]) + np.array([0, 1])) * np.array([col_width, row_height])\n",
    "        fig, ax = plt.subplots(figsize=size)\n",
    "        ax.axis('off')\n",
    "\n",
    "    mpl_table = ax.table(cellText=data.values, bbox=bbox, colLabels=data.columns, **kwargs)\n",
    "\n",
    "    mpl_table.auto_set_font_size(False)\n",
    "    mpl_table.set_fontsize(font_size)\n",
    "\n",
    "    for k, cell in  six.iteritems(mpl_table._cells):\n",
    "        cell.set_edgecolor(edge_color)\n",
    "        if k[0] == 0 or k[1] < header_columns:\n",
    "            cell.set_text_props(weight='bold', color='w')\n",
    "            cell.set_facecolor(header_color)\n",
    "        else:\n",
    "            cell.set_facecolor(row_colors[k[0]%len(row_colors) ])\n",
    "    return ax"
   ]
  },
  {
   "cell_type": "code",
   "execution_count": 3,
   "metadata": {},
   "outputs": [],
   "source": [
    "# This is code for plotting confusion matrices\n",
    "def plot_confusion_matrix(cm, target_names, title='Confusion matrix', cmap=plt.cm.Blues):\n",
    "    plt.imshow(cm, interpolation='nearest', cmap=cmap)\n",
    "    plt.title(title)\n",
    "    plt.colorbar()\n",
    "    tick_marks = np.arange(len(target_names))\n",
    "    plt.xticks(tick_marks, target_names, rotation=45)\n",
    "    plt.yticks(tick_marks, target_names)\n",
    "    plt.tight_layout()\n",
    "\n",
    "    width, height = cm.shape\n",
    "\n",
    "    for x in range(width):\n",
    "        for y in range(height):\n",
    "            plt.annotate(str(cm[x][y]), xy=(y, x), \n",
    "                        horizontalalignment='center',\n",
    "                        verticalalignment='center')\n",
    "    plt.ylabel('True label')\n",
    "    plt.xlabel('Predicted label')"
   ]
  },
  {
   "cell_type": "code",
   "execution_count": 4,
   "metadata": {},
   "outputs": [],
   "source": [
    "#This is a function for plotting most important features\n",
    "def plot_coefficients(classifier, feature_names, top_features=10):\n",
    "    coef = classifier.coef_.ravel()\n",
    "    top_positive_coefficients = np.argsort(coef)[-top_features:]\n",
    "    top_negative_coefficients = np.argsort(coef)[:top_features]\n",
    "    top_coefficients = np.hstack([top_negative_coefficients, top_positive_coefficients])\n",
    "    # create plot\n",
    "    plt.figure(figsize=(15, 5))\n",
    "    colors = ['green' if c < 0 else 'red' for c in coef[top_coefficients]]\n",
    "    plt.bar(np.arange(2 * top_features), coef[top_coefficients], color=colors)\n",
    "    feature_names = np.array(feature_names)\n",
    "    plt.xticks(np.arange(1, 1 + 2 * top_features), feature_names[top_coefficients], rotation=60, ha='right')\n",
    "    plt.show()"
   ]
  },
  {
   "cell_type": "code",
   "execution_count": 5,
   "metadata": {},
   "outputs": [],
   "source": [
    "# Plot results\n",
    "def plot_train_curve(history):\n",
    "    colors = ['#e66101','#fdb863','#b2abd2','#5e3c99']\n",
    "    accuracy = history.history['acc']\n",
    "    val_accuracy = history.history['val_acc']\n",
    "    loss = history.history['loss']\n",
    "    val_loss = history.history['val_loss']\n",
    "    epochs = range(len(accuracy))\n",
    "    with plt.style.context(\"ggplot\"):\n",
    "        plt.figure(figsize=(8, 8/1.618))\n",
    "        plt.plot(epochs, accuracy, marker='o', c=colors[3], label='Training accuracy')\n",
    "        plt.plot(epochs, val_accuracy, c=colors[0], label='Validation accuracy')\n",
    "        plt.title('Training and validation accuracy')\n",
    "        plt.legend()\n",
    "        plt.figure(figsize=(8, 8/1.618))\n",
    "        plt.plot(epochs, loss, marker='o', c=colors[3], label='Training loss')\n",
    "        plt.plot(epochs, val_loss, c=colors[0], label='Validation loss')\n",
    "        plt.title('Training and validation loss')\n",
    "        plt.legend()\n",
    "        plt.show()"
   ]
  },
  {
   "cell_type": "code",
   "execution_count": 6,
   "metadata": {},
   "outputs": [],
   "source": [
    "# Load data\n",
    "df = pd.read_csv('data/train_E6oV3lV.csv')"
   ]
  },
  {
   "cell_type": "code",
   "execution_count": 7,
   "metadata": {},
   "outputs": [
    {
     "name": "stdout",
     "output_type": "stream",
     "text": [
      "   id  label                                              tweet\n",
      "0   1      0   @user when a father is dysfunctional and is s...\n",
      "1   2      0  @user @user thanks for #lyft credit i can't us...\n",
      "2   3      0                                bihday your majesty\n",
      "3   4      0  #model   i love u take with u all the time in ...\n",
      "4   5      0             factsguide: society now    #motivation\n",
      "31962  tweets\n"
     ]
    }
   ],
   "source": [
    "print(df.head())\n",
    "print(len(df), \" tweets\")"
   ]
  },
  {
   "cell_type": "code",
   "execution_count": null,
   "metadata": {},
   "outputs": [
    {
     "name": "stdout",
     "output_type": "stream",
     "text": [
      "   id  label                                              tweet\n",
      "0   1      0   @user when a father is dysfunctional and is s...\n",
      "1   2      0  @user @user thanks for #lyft credit i can't us...\n",
      "2   3      0                                bihday your majesty\n",
      "3   4      0  #model   i love u take with u all the time in ...\n",
      "4   5      0             factsguide: society now    #motivation\n"
     ]
    }
   ],
   "source": [
    "print(df[df['label'] == 0].head())"
   ]
  },
  {
   "cell_type": "code",
   "execution_count": null,
   "metadata": {},
   "outputs": [
    {
     "name": "stdout",
     "output_type": "stream",
     "text": [
      "      id  label                                              tweet\n",
      "13    14      1  @user #cnn calls #michigan middle school 'buil...\n",
      "14    15      1  no comment!  in #australia   #opkillingbay #se...\n",
      "17    18      1                             retweet if you agree! \n",
      "23    24      1    @user @user lumpy says i am a . prove it lumpy.\n",
      "34    35      1  it's unbelievable that in the 21st century we'...\n",
      "56    57      1            @user lets fight against  #love #peace \n",
      "68    69      1  Ã°ÂŸÂ˜Â©the white establishment can't have blk...\n",
      "77    78      1  @user hey, white people: you can call people '...\n",
      "82    83      1  how the #altright uses  &amp; insecurity to lu...\n",
      "111  112      1  @user i'm not interested in a #linguistics tha...\n"
     ]
    }
   ],
   "source": [
    "print(df[df['label'] == 1].head(10))"
   ]
  },
  {
   "cell_type": "code",
   "execution_count": null,
   "metadata": {},
   "outputs": [
    {
     "data": {
      "text/plain": [
       "(31962, 3)"
      ]
     },
     "execution_count": 10,
     "metadata": {},
     "output_type": "execute_result"
    }
   ],
   "source": [
    "df.shape"
   ]
  },
  {
   "cell_type": "code",
   "execution_count": null,
   "metadata": {},
   "outputs": [],
   "source": [
    "# Create a function to clean the tweets\n",
    "def clean_data(df):\n",
    "    # Remove punctuation\n",
    "    df['tweet'] = df['tweet'].str.replace('[^\\w\\s]','')\n",
    "    # Remove numbers\n",
    "    df['tweet'] = df['tweet'].str.replace('[^a-zA-Z#\\s]','')\n",
    "    # Remove capitalization\n",
    "    df['tweet'] = df['tweet'].str.lower()   \n",
    "    # Remove user \n",
    "    df['tweet'] = df['tweet'].str.replace('user','')\n",
    "    # Return df\n",
    "    return df\n",
    "#stop word removal\n",
    "#from nltk.corpus import stopwords\n",
    "#stop = stopwords.words('english')\n",
    "#df['tweet'].apply(lambda x: [item for item in x if item not in stop])\n"
   ]
  },
  {
   "cell_type": "code",
   "execution_count": null,
   "metadata": {},
   "outputs": [],
   "source": [
    "clean_df = clean_data(df)"
   ]
  },
  {
   "cell_type": "code",
   "execution_count": null,
   "metadata": {},
   "outputs": [
    {
     "data": {
      "text/html": [
       "<div>\n",
       "<style scoped>\n",
       "    .dataframe tbody tr th:only-of-type {\n",
       "        vertical-align: middle;\n",
       "    }\n",
       "\n",
       "    .dataframe tbody tr th {\n",
       "        vertical-align: top;\n",
       "    }\n",
       "\n",
       "    .dataframe thead th {\n",
       "        text-align: right;\n",
       "    }\n",
       "</style>\n",
       "<table border=\"1\" class=\"dataframe\">\n",
       "  <thead>\n",
       "    <tr style=\"text-align: right;\">\n",
       "      <th></th>\n",
       "      <th>id</th>\n",
       "      <th>label</th>\n",
       "      <th>tweet</th>\n",
       "    </tr>\n",
       "  </thead>\n",
       "  <tbody>\n",
       "    <tr>\n",
       "      <th>0</th>\n",
       "      <td>1</td>\n",
       "      <td>0</td>\n",
       "      <td>when a father is dysfunctional and is so sel...</td>\n",
       "    </tr>\n",
       "    <tr>\n",
       "      <th>1</th>\n",
       "      <td>2</td>\n",
       "      <td>0</td>\n",
       "      <td>thanks for lyft credit i cant use cause they...</td>\n",
       "    </tr>\n",
       "    <tr>\n",
       "      <th>2</th>\n",
       "      <td>3</td>\n",
       "      <td>0</td>\n",
       "      <td>bihday your majesty</td>\n",
       "    </tr>\n",
       "    <tr>\n",
       "      <th>3</th>\n",
       "      <td>4</td>\n",
       "      <td>0</td>\n",
       "      <td>model   i love u take with u all the time in u...</td>\n",
       "    </tr>\n",
       "    <tr>\n",
       "      <th>4</th>\n",
       "      <td>5</td>\n",
       "      <td>0</td>\n",
       "      <td>factsguide society now    motivation</td>\n",
       "    </tr>\n",
       "  </tbody>\n",
       "</table>\n",
       "</div>"
      ],
      "text/plain": [
       "   id  label                                              tweet\n",
       "0   1      0    when a father is dysfunctional and is so sel...\n",
       "1   2      0    thanks for lyft credit i cant use cause they...\n",
       "2   3      0                                bihday your majesty\n",
       "3   4      0  model   i love u take with u all the time in u...\n",
       "4   5      0               factsguide society now    motivation"
      ]
     },
     "execution_count": 13,
     "metadata": {},
     "output_type": "execute_result"
    }
   ],
   "source": [
    "clean_df.head()"
   ]
  },
  {
   "cell_type": "code",
   "execution_count": null,
   "metadata": {},
   "outputs": [],
   "source": [
    "# Create normalized vectorizer\n",
    "my_vectorizer = TfidfVectorizer(\n",
    "    #token_pattern=u'(?ui)\\\\b\\\\w*[a-z]+\\\\w*\\\\b',\n",
    "    input='contents',\n",
    "    analyzer = 'word',\n",
    "    stop_words='english',\n",
    "    lowercase = True\n",
    ")"
   ]
  },
  {
   "cell_type": "code",
   "execution_count": null,
   "metadata": {},
   "outputs": [],
   "source": [
    "transformed_vectors = my_vectorizer.fit_transform(clean_df.tweet)\n",
    "column_names = my_vectorizer.get_feature_names()\n",
    "my_dtm = pd.DataFrame(transformed_vectors.toarray(),columns = column_names)\n",
    "\n",
    "label_list = clean_df.label.values\n",
    "my_dtm['Label'] = label_list\n",
    "clean_normalized_df = pd.DataFrame()\n",
    "clean_normalized_df = clean_normalized_df.append(my_dtm)"
   ]
  },
  {
   "cell_type": "code",
   "execution_count": null,
   "metadata": {},
   "outputs": [],
   "source": [
    "def my_nb_results(df):\n",
    "    #Split the data\n",
    "    print(\"preparing data\")\n",
    "    train_df, test_df = train_test_split(df, test_size=0.4)\n",
    "    \n",
    "    #Get test labels\n",
    "    test_labels = test_df['Label']\n",
    "\n",
    "    # Remove test labels\n",
    "    test_df = test_df.drop(['Label'], axis=1)\n",
    "\n",
    "    # Create svm modeler\n",
    "    print(\"creating NB\")\n",
    "    my_nb = MultinomialNB()\n",
    "\n",
    "    # Separate labels from train data\n",
    "    train_no_labels = train_df.drop(['Label'], axis=1)\n",
    "    train_labels = train_df['Label']\n",
    "\n",
    "    # Fit the svm model\n",
    "    print(\"training model\")\n",
    "    my_nb.fit(train_no_labels, train_labels)\n",
    "    predictions = my_nb.predict(test_df)\n",
    "    print(my_nb.score(test_df, test_labels))\n",
    "\n",
    "    # Get the confusion matrix\n",
    "    print(\"generating confusion matrix\")\n",
    "    cnf_matrix = confusion_matrix(test_labels, predictions)\n",
    "    print(\"The confusion matrix is:\")\n",
    "    print(cnf_matrix)\n",
    "    plot_confusion_matrix(cnf_matrix, ['0','1'])\n",
    "    \n",
    "    #for row_index in (predictions, test_labels):\n",
    "        #if predictions.isin(test_labels):\n",
    "            #print('Row', row_index, 'has been classified as ', predictions, 'and should be ', test_labels)\n",
    "    "
   ]
  },
  {
   "cell_type": "code",
   "execution_count": null,
   "metadata": {},
   "outputs": [
    {
     "name": "stdout",
     "output_type": "stream",
     "text": [
      "preparing data\n",
      "creating NB\n",
      "training model\n",
      "0.9411028549080954\n",
      "generating confusion matrix\n",
      "The confusion matrix is:\n",
      "[[11943     0]\n",
      " [  753    89]]\n"
     ]
    },
    {
     "data": {
      "image/png": "[encoded data removed]",
      "text/plain": [
       "<Figure size 432x288 with 2 Axes>"
      ]
     },
     "metadata": {
      "needs_background": "light"
     },
     "output_type": "display_data"
    }
   ],
   "source": [
    "my_nb_results(clean_normalized_df)"
   ]
  },
  {
   "cell_type": "code",
   "execution_count": null,
   "metadata": {},
   "outputs": [],
   "source": [
    "def my_svm_results(df):\n",
    "    # Split the data\n",
    "    print(\"preparing data\")\n",
    "    train_df, test_df = train_test_split(df, test_size=0.4)\n",
    "    \n",
    "    # Get test labels\n",
    "    test_labels = test_df['Label']\n",
    "\n",
    "    # Remove test labels\n",
    "    test_df = test_df.drop(['Label'], axis=1)\n",
    "\n",
    "    # Create svm modeler\n",
    "    print(\"creating SVM\")\n",
    "    my_svm = LinearSVC(C=10)\n",
    "\n",
    "    # Separate labels from train data\n",
    "    train_no_labels = train_df.drop(['Label'], axis=1)\n",
    "    train_labels = train_df['Label']\n",
    "\n",
    "    # Fit the svm model\n",
    "    print(\"training model\")\n",
    "    my_svm.fit(train_no_labels, train_labels)\n",
    "    predictions = my_svm.predict(test_df)\n",
    "    print(my_svm.score(test_df, test_labels))\n",
    "\n",
    "    # Get the confusion matrix\n",
    "    print(\"generating confusion matrix\")\n",
    "    cnf_matrix = confusion_matrix(test_labels, predictions)\n",
    "    print(\"The confusion matrix is:\")\n",
    "    print(cnf_matrix)\n",
    "    plot_confusion_matrix(cnf_matrix, ['0','1'])\n",
    "    \n",
    "    # Plot most influential features\n",
    "    plot_coefficients(my_svm, column_names)\n",
    "    \n",
    "    # Compute the ten fold cross validation\n",
    "    print(\"The 10-fold cross validation is\")\n",
    "    print(cross_val_score(my_svm, train_no_labels, train_labels, cv = 10))\n",
    "    cv = cross_val_score(my_svm, train_no_labels, train_labels, cv = 10)\n",
    "    cv_df = pd.DataFrame()\n",
    "    cv_df['Cross Val Scores'] = cv\n",
    "    cv_df = cv_df.round(4)\n",
    "    render_mpl_table(cv_df)\n",
    "    \n",
    "    # Generate a word cloud of train data\n",
    "    #Get column names\n",
    "    print(\"generating word cloud\")\n",
    "    words = list(train_no_labels.columns)\n",
    "    # iterate over columns to sum word counts\n",
    "    counts = []\n",
    "    for i, idx in enumerate(train_no_labels.columns, 1):\n",
    "        total = train_no_labels.iloc[:,:1].all(axis=1).sum()\n",
    "        counts.append(total)\n",
    "    \n",
    "    cloud_df = pd.DataFrame({\n",
    "        \"words\": words,\n",
    "        \"counts\": counts,\n",
    "    })\n",
    "    \n",
    "    # Create dictionary to store word counts\n",
    "    d = {}\n",
    "    # Iterate over dictionary to get word counts\n",
    "    for a, x in cloud_df.values:\n",
    "        d[a] = x\n",
    "    # Get wordcloud object\n",
    "    wordcloud = WordCloud()\n",
    "    wordcloud.generate_from_frequencies(frequencies = d)\n",
    "    plt.figure()\n",
    "    plt.imshow(wordcloud, interpolation = 'bilinear')\n",
    "    plt.axis(\"off\")\n",
    "    plt.show()\n",
    "    "
   ]
  },
  {
   "cell_type": "code",
   "execution_count": null,
   "metadata": {},
   "outputs": [
    {
     "name": "stdout",
     "output_type": "stream",
     "text": [
      "preparing data\n",
      "creating SVM\n",
      "training model\n",
      "0.95831052014079\n",
      "generating confusion matrix\n",
      "The confusion matrix is:\n",
      "[[11746   132]\n",
      " [  401   506]]\n"
     ]
    },
    {
     "data": {
      "image/png": "[encoded data removed]",
      "text/plain": [
       "<Figure size 432x288 with 2 Axes>"
      ]
     },
     "metadata": {
      "needs_background": "light"
     },
     "output_type": "display_data"
    },
    {
     "data": {
      "image/png": "[encoded data removed]",
      "text/plain": [
       "<Figure size 1080x360 with 1 Axes>"
      ]
     },
     "metadata": {
      "needs_background": "light"
     },
     "output_type": "display_data"
    },
    {
     "name": "stdout",
     "output_type": "stream",
     "text": [
      "The 10-fold cross validation is\n"
     ]
    }
   ],
   "source": [
    "my_svm_results(clean_normalized_df)"
   ]
  },
  {
   "cell_type": "code",
   "execution_count": null,
   "metadata": {},
   "outputs": [],
   "source": [
    "from sklearn.ensemble import RandomForestClassifier"
   ]
  },
  {
   "cell_type": "code",
   "execution_count": null,
   "metadata": {},
   "outputs": [],
   "source": [
    "#Random Forest\n",
    "def my_rf_results(df):\n",
    "    # Split the data\n",
    "    print(\"preparing data\")\n",
    "    train_df, test_df = train_test_split(df, test_size=0.4)\n",
    "    \n",
    "    # Get test labels\n",
    "    test_labels = test_df['Label']\n",
    "\n",
    "    # Remove test labels\n",
    "    test_df = test_df.drop(['Label'], axis=1)\n",
    "\n",
    "    # Create RF modeler\n",
    "    print(\"creating Random Forest\")\n",
    "    my_rf = RandomForestClassifier(n_estimators=200, max_depth=3, random_state=0)\n",
    "\n",
    "    # Separate labels from train data\n",
    "    train_no_labels = train_df.drop(['Label'], axis=1)\n",
    "    train_labels = train_df['Label']\n",
    "\n",
    "    # Fit the random forest model\n",
    "    print(\"training model\")\n",
    "    my_rf.fit(train_no_labels, train_labels)\n",
    "    predictions = my_rf.predict(test_df)\n",
    "    print(my_rf.score(test_df, test_labels))\n",
    "\n",
    "    # Get the confusion matrix\n",
    "    print(\"generating confusion matrix\")\n",
    "    cnf_matrix = confusion_matrix(test_labels, predictions)\n",
    "    print(\"The confusion matrix is:\")\n",
    "    print(cnf_matrix)\n",
    "    plot_confusion_matrix(cnf_matrix, ['0','1'])\n"
   ]
  },
  {
   "cell_type": "code",
   "execution_count": null,
   "metadata": {},
   "outputs": [],
   "source": [
    "my_rf_results(clean_normalized_df)"
   ]
  },
  {
   "cell_type": "code",
   "execution_count": null,
   "metadata": {},
   "outputs": [],
   "source": [
    "from keras.models import Sequential\n",
    "from keras.layers import Dense\n",
    "from keras.layers import Dropout\n",
    "from keras.utils import np_utils\n",
    "import matplotlib.pyplot as plt\n",
    "import tensorflow as tf \n",
    "from tensorflow import keras"
   ]
  },
  {
   "cell_type": "code",
   "execution_count": null,
   "metadata": {},
   "outputs": [],
   "source": [
    "import os\n",
    "os.environ['KERAS_BACKEND']='tensorflow'\n",
    "import tensorflow as tf\n",
    "\n",
    "\n",
    "def tf_no_warning():\n",
    "    \"\"\"\n",
    "    Make Tensorflow less verbose\n",
    "    \"\"\"\n",
    "    try:\n",
    "\n",
    "        tf.logging.set_verbosity(tf.logging.ERROR)\n",
    "        os.environ['TF_CPP_MIN_LOG_LEVEL'] = '3'\n",
    "\n",
    "    except ImportError:\n",
    "        pass"
   ]
  },
  {
   "cell_type": "code",
   "execution_count": null,
   "metadata": {},
   "outputs": [],
   "source": [
    "tf_no_warning()\n"
   ]
  },
  {
   "cell_type": "code",
   "execution_count": null,
   "metadata": {},
   "outputs": [],
   "source": [
    "#Keras NN Fit\n",
    "def my_keras_results(df):\n",
    "    # Split the data\n",
    "    print(\"preparing data\")\n",
    "    train_df, test_df = train_test_split(df, test_size=0.4)\n",
    "    \n",
    "    # Get test labels\n",
    "    test_labels = test_df['Label']\n",
    "\n",
    "    # Remove test labels\n",
    "    test_df = test_df.drop(['Label'], axis=1)\n",
    "\n",
    "    # Create Keras NN modeler\n",
    "    print(\"creating Keras model\")\n",
    "    \n",
    "   #Keras Model\n",
    "    model = Sequential()\n",
    "    model.add(Dense(200, input_dim=39410, kernel_initializer='normal', activation='relu'))\n",
    "    model.add(Dense(1, kernel_initializer='normal', activation='sigmoid'))\n",
    "    model.compile(loss='binary_crossentropy', optimizer='rmsprop', metrics=['accuracy'])\n",
    "    # Separate labels from train data\n",
    "    train_no_labels = train_df.drop(['Label'], axis=1)\n",
    "    train_labels = train_df['Label']\n",
    "\n",
    "    # Fit the Keras model\n",
    "    print(\"training model\")\n",
    "    history = model.fit(train_no_labels, train_labels, batch_size=32, epochs=50)\n",
    "    predictions = model.predict(test_df)\n",
    "    plot_train_curve(history)\n",
    "    \n"
   ]
  },
  {
   "cell_type": "code",
   "execution_count": null,
   "metadata": {},
   "outputs": [],
   "source": [
    "my_keras_results(clean_normalized_df)"
   ]
  },
  {
   "cell_type": "code",
   "execution_count": null,
   "metadata": {},
   "outputs": [],
   "source": []
  },
  {
   "cell_type": "code",
   "execution_count": null,
   "metadata": {},
   "outputs": [],
   "source": []
  },
  {
   "cell_type": "code",
   "execution_count": null,
   "metadata": {},
   "outputs": [],
   "source": []
  },
  {
   "cell_type": "code",
   "execution_count": null,
   "metadata": {},
   "outputs": [],
   "source": []
  },
  {
   "cell_type": "code",
   "execution_count": null,
   "metadata": {},
   "outputs": [],
   "source": []
  }
 ],
 "metadata": {
  "kernelspec": {
   "display_name": "Python 3",
   "language": "python",
   "name": "python3"
  },
  "language_info": {
   "codemirror_mode": {
    "name": "ipython",
    "version": 3
   },
   "file_extension": ".py",
   "mimetype": "text/x-python",
   "name": "python",
   "nbconvert_exporter": "python",
   "pygments_lexer": "ipython3",
   "version": "3.7.1"
  }
 },
 "nbformat": 4,
 "nbformat_minor": 2
}
